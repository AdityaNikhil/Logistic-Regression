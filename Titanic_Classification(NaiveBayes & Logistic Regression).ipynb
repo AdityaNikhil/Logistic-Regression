{
 "cells": [
  {
   "cell_type": "markdown",
   "metadata": {},
   "source": [
    "# Objective is to find whether a person is Survived or not in Titanic accident depending upon the given features\n",
    "# We're going to use Naive Bayes and Logistic regression to compare which is best for Classification\n"
   ]
  },
  {
   "cell_type": "markdown",
   "metadata": {},
   "source": [
    "#### NOTE : explanation for Naive bayes is not given but logistic regression is given"
   ]
  },
  {
   "cell_type": "code",
   "execution_count": 64,
   "metadata": {},
   "outputs": [],
   "source": [
    "import numpy as np\n",
    "import pandas as pd\n",
    "import matplotlib.pyplot as plt\n",
    "import random\n",
    "from IPython.display import clear_output"
   ]
  },
  {
   "cell_type": "code",
   "execution_count": 65,
   "metadata": {},
   "outputs": [],
   "source": [
    "df = pd.read_csv('C:/Users/adity/titanic_train.csv')"
   ]
  },
  {
   "cell_type": "markdown",
   "metadata": {},
   "source": [
    "## Dropping NaN values & Unwanted columns "
   ]
  },
  {
   "cell_type": "code",
   "execution_count": 66,
   "metadata": {},
   "outputs": [],
   "source": [
    "df = df.drop(['Name','Ticket','Cabin','PassengerId'],axis=1)\n",
    "df = df.dropna(axis = 0)"
   ]
  },
  {
   "cell_type": "markdown",
   "metadata": {},
   "source": [
    "# Making target and Features variables"
   ]
  },
  {
   "cell_type": "code",
   "execution_count": 67,
   "metadata": {},
   "outputs": [],
   "source": [
    "target = df['Survived'].copy()\n",
    "features = df.drop(['Survived'],axis = 1).copy()"
   ]
  },
  {
   "cell_type": "markdown",
   "metadata": {},
   "source": [
    "# Encoding Sex and Embarked(As they're textual)"
   ]
  },
  {
   "cell_type": "code",
   "execution_count": 68,
   "metadata": {},
   "outputs": [],
   "source": [
    "features['Sex'] = features['Sex'].replace(['male','female'],[1,0])\n",
    "features['Embarked'] = features['Embarked'].replace(['C','S','Q'],[1,2,3])"
   ]
  },
  {
   "cell_type": "code",
   "execution_count": 222,
   "metadata": {},
   "outputs": [
    {
     "name": "stdout",
     "output_type": "stream",
     "text": [
      "Shape of Features : (712, 7)\n",
      "Shape of Target : (712,)\n"
     ]
    }
   ],
   "source": [
    "print('Shape of Features :',features.shape)\n",
    "print('Shape of Target :',target.shape)\n",
    "######### SHOULD FIX THE TARGET SHAPE ##########"
   ]
  },
  {
   "cell_type": "code",
   "execution_count": 223,
   "metadata": {},
   "outputs": [],
   "source": [
    "target = np.array(target)\n",
    "target = target.reshape(1,len(target))"
   ]
  },
  {
   "cell_type": "code",
   "execution_count": 224,
   "metadata": {},
   "outputs": [
    {
     "name": "stdout",
     "output_type": "stream",
     "text": [
      "Shape of Features : (712, 7)\n",
      "Shape of Target : (1, 712)\n"
     ]
    }
   ],
   "source": [
    "print('Shape of Features :',features.shape)\n",
    "print('Shape of Target :',target.shape)"
   ]
  },
  {
   "cell_type": "code",
   "execution_count": 225,
   "metadata": {},
   "outputs": [],
   "source": [
    "cov_pos = features[df['Survived']==1].cov()\n",
    "cov_neg = features[df['Survived']==0].cov()\n",
    "\n",
    "######## Both Give shape 7x7 ###########\n",
    "################ CAUTION ##############\n",
    "###### DO NOT USE NP.COV AS IT MAY RESULT IN INCORRECT CO-VARIANCE #######"
   ]
  },
  {
   "cell_type": "code",
   "execution_count": 226,
   "metadata": {},
   "outputs": [],
   "source": [
    "mean_pos = np.mean(features[df['Survived']==1])\n",
    "mean_neg = np.mean(features[df['Survived']==0])"
   ]
  },
  {
   "cell_type": "code",
   "execution_count": 227,
   "metadata": {},
   "outputs": [
    {
     "data": {
      "text/plain": [
       "(7,)"
      ]
     },
     "execution_count": 227,
     "metadata": {},
     "output_type": "execute_result"
    }
   ],
   "source": [
    "mean_pos.shape\n",
    "######### DO NOT WORRY ABOUT SHAPE, STILL IT GIVES PROPER RESULTS #########"
   ]
  },
  {
   "cell_type": "code",
   "execution_count": 228,
   "metadata": {},
   "outputs": [],
   "source": [
    "p_pos = len(features[df['Survived']==1])/len(features)\n",
    "p_neg = len(features[df['Survived']==0])/len(features)"
   ]
  },
  {
   "cell_type": "code",
   "execution_count": 229,
   "metadata": {},
   "outputs": [
    {
     "data": {
      "text/plain": [
       "(712, 7)"
      ]
     },
     "execution_count": 229,
     "metadata": {},
     "output_type": "execute_result"
    }
   ],
   "source": [
    "(features-mean_pos).shape"
   ]
  },
  {
   "cell_type": "code",
   "execution_count": 230,
   "metadata": {},
   "outputs": [
    {
     "data": {
      "text/plain": [
       "(7, 7)"
      ]
     },
     "execution_count": 230,
     "metadata": {},
     "output_type": "execute_result"
    }
   ],
   "source": [
    "np.linalg.inv(cov_pos).shape"
   ]
  },
  {
   "cell_type": "code",
   "execution_count": 231,
   "metadata": {},
   "outputs": [],
   "source": [
    "def prior_pos(x, mean_pos, cov_pos):\n",
    "    return (1/(((2*np.pi)**len(features.T))*np.linalg.det(cov_pos))**0.5)*np.exp((-0.5)*np.dot(np.dot((x-mean_pos) ,np.linalg.inv(cov_pos)),(x-mean_pos).T))\n",
    "def prior_neg(x, mean_neg, cov_neg):\n",
    "    return (1/(((2*np.pi)**len(features.T))*np.linalg.det(cov_neg))**0.5)*np.exp((-0.5)*np.dot(np.dot((x-mean_neg) ,np.linalg.inv(cov_neg)),(x-mean_neg).T))\n",
    "def posterior_pos(x, prior_pos, prior_neg, p_pos, p_neg):\n",
    "    return ((prior_pos(x, mean_pos, cov_pos))*p_pos)/(((prior_pos(x, mean_pos, cov_pos))*p_pos)+((prior_neg(x, mean_neg, cov_neg))*p_neg))\n",
    "def posterior_neg(x, prior_pos, prior_neg, p_pos, p_neg):\n",
    "    return ((prior_neg(x, mean_neg, cov_neg))*p_neg)/(((prior_pos(x, mean_pos, cov_pos))*p_pos)+((prior_neg(x, mean_neg, cov_neg))*p_neg))"
   ]
  },
  {
   "cell_type": "code",
   "execution_count": 232,
   "metadata": {},
   "outputs": [],
   "source": [
    "########## we are doing FEATURES.ILOC[i] to get post_pos value of each instance ###########\n",
    "\n",
    "pred_class = []\n",
    "for i in range(len(features)):\n",
    "    q = (posterior_pos(features.iloc[i], prior_pos, prior_neg, p_pos, p_neg))\n",
    "    r = (posterior_neg(features.iloc[i], prior_pos, prior_neg, p_pos, p_neg))\n",
    "    if(q > r):\n",
    "        pred_class.append(1)\n",
    "    else:\n",
    "        pred_class.append(0)\n"
   ]
  },
  {
   "cell_type": "code",
   "execution_count": 244,
   "metadata": {},
   "outputs": [],
   "source": [
    "target = pd.DataFrame(target)"
   ]
  },
  {
   "cell_type": "code",
   "execution_count": 250,
   "metadata": {},
   "outputs": [
    {
     "data": {
      "text/plain": [
       "1"
      ]
     },
     "execution_count": 250,
     "metadata": {},
     "output_type": "execute_result"
    }
   ],
   "source": [
    "target[7][0]"
   ]
  },
  {
   "cell_type": "code",
   "execution_count": 253,
   "metadata": {},
   "outputs": [],
   "source": [
    "def accuracy(predicted,actual):\n",
    "  correct = 0\n",
    "  for i in range(0,len(predicted)):\n",
    "    if(predicted[i]==actual[i][0]):\n",
    "      correct += 1\n",
    "  return (correct/len(predicted))*100"
   ]
  },
  {
   "cell_type": "code",
   "execution_count": 254,
   "metadata": {},
   "outputs": [
    {
     "data": {
      "text/plain": [
       "80.19662921348315"
      ]
     },
     "execution_count": 254,
     "metadata": {},
     "output_type": "execute_result"
    }
   ],
   "source": [
    "accuracy(pred_class,target)"
   ]
  },
  {
   "cell_type": "markdown",
   "metadata": {},
   "source": [
    "# Classification using Logistic Regression"
   ]
  },
  {
   "cell_type": "code",
   "execution_count": 100,
   "metadata": {},
   "outputs": [],
   "source": [
    "###### USELESS FEATURE ########\n",
    "features = features.drop(['SibSp'],axis=1)"
   ]
  },
  {
   "cell_type": "code",
   "execution_count": 103,
   "metadata": {},
   "outputs": [],
   "source": [
    "target = np.array(target)\n",
    "target = target.reshape(1,712)"
   ]
  },
  {
   "cell_type": "code",
   "execution_count": 101,
   "metadata": {},
   "outputs": [
    {
     "name": "stdout",
     "output_type": "stream",
     "text": [
      "Shape of features : (712, 6)\n",
      "Shape of Target : (1, 712)\n"
     ]
    }
   ],
   "source": [
    "print('Shape of features :',features.shape)\n",
    "print('Shape of Target :',target.shape)"
   ]
  },
  {
   "cell_type": "markdown",
   "metadata": {},
   "source": [
    "## NORMALISING is important to avoid any errors and to achieve good accuracy"
   ]
  },
  {
   "cell_type": "code",
   "execution_count": 245,
   "metadata": {},
   "outputs": [],
   "source": [
    "features = features/features.max()\n",
    "target = target/target.max()"
   ]
  },
  {
   "cell_type": "markdown",
   "metadata": {},
   "source": [
    "## Writing Functions\n",
    "\n",
    "# This is Hypothesis function in Logistic Regression, \n",
    "## $$ p=\\frac{1}{1+e^{-(mx+c)}} $$\n",
    "### This gives values ranging from 0 to 1 which we're interested to get as our target var ranges from 0 to 1\n",
    "### We are going to predict values using MLE instead of MSE as it gives very high error values\n",
    "### First, we'll be finding log(p) for those values whose target var value is 1 and also find log(1-p) for those values whose target var value is 0\n"
   ]
  },
  {
   "cell_type": "markdown",
   "metadata": {},
   "source": [
    "# By doing log, we get values ranging from -inf to +inf,\n",
    "##  (i.e) $$ log(\\frac{p}{1-p}) = \\frac{log(\\frac{1}{1+e^{-(mx+c)}})}{1+\\frac{1}{1+e^{-(mx+c)}}}  $$\n",
    "# We call this as \"ODDS FUNCTION\"\n"
   ]
  },
  {
   "cell_type": "markdown",
   "metadata": {},
   "source": [
    "# For given some m & c values,\n",
    "## if we compute log(p), we get some corresponing value in log(odds) graph.\n",
    "## where log(p) is for those values whose target_var value is 1 and, similarly for log(1-p) , we get some value in log(odds) graph where log(1-p) is for those values whose target_var value is 0\n",
    "## those values denotes our cost "
   ]
  },
  {
   "cell_type": "markdown",
   "metadata": {},
   "source": [
    "# Our goal is to reduce m and c values such that with good m and c, the \"p\" will be reduced and hence log will be reduced\n",
    "## \"\"\"\"\"\"\"\"\"\"\"Make sure log shouldn't return 1, if did, then, error becomes infinity\"\"\"\"\"\"\"\"\"\""
   ]
  },
  {
   "cell_type": "code",
   "execution_count": 243,
   "metadata": {},
   "outputs": [],
   "source": [
    "def sigmoid(m,x,c):\n",
    "    return 1/(1+np.exp(-(np.dot(m,x.T)+c)))\n",
    "def cost(m,x,c,y):\n",
    "    pred_class = []\n",
    "    sig = sigmoid(m,x,c)\n",
    "    d = 0.0005\n",
    "    for i in range(len(x)):\n",
    "        if(y[0][i] == 1):\n",
    "            pred_class.append(-np.log(sigmoid(m,x.iloc[i],c)+d))  #### We add d to avoid values to go to 0.9999999 which may return log value to inf\n",
    "        else:\n",
    "            pred_class.append(-np.log(1-sigmoid(m,x.iloc[i],c)+d))\n",
    "    pred_class = np.array(pred_class)\n",
    "    pred_class = pred_class.reshape(1,712)   #For BroadCasting purposes\n",
    "    return np.mean((pred_class))\n",
    "def grad_m(m,x,c,y):\n",
    "    grad= np.mean((sigmoid(m,x,c)-y)*x.T,axis=1)  #### Make sure formula is (yp - ya)\n",
    "    grad = np.array(grad)\n",
    "    grad = grad.reshape(1,6)\n",
    "    return grad\n",
    "def grad_c(m,x,c,y):\n",
    "    return np.mean((sigmoid(m,x,c)-y))\n",
    "def accuracy(m,x,c,y):\n",
    "    y_pred=sigmoid(m,x,c)\n",
    "    y_pred[y_pred>=0.5]=1   ### As y_pred in our case can be any value between 0 to 1\n",
    "    y_pred[y_pred<0.5]=0\n",
    "    correct=len(y_pred[y_pred==y])\n",
    "    return correct/len(y.T)*100"
   ]
  },
  {
   "cell_type": "code",
   "execution_count": 247,
   "metadata": {},
   "outputs": [],
   "source": [
    "m = np.random.randn(1,6)\n",
    "c = random.random()"
   ]
  },
  {
   "cell_type": "code",
   "execution_count": 248,
   "metadata": {},
   "outputs": [
    {
     "name": "stdout",
     "output_type": "stream",
     "text": [
      "Error : 0.4490761703874182 Iteration : 999 Accuracy : 79.7752808988764\n"
     ]
    },
    {
     "data": {
      "image/png": "[encoded data removed]",
      "text/plain": [
       "<Figure size 432x288 with 1 Axes>"
      ]
     },
     "metadata": {
      "needs_background": "light"
     },
     "output_type": "display_data"
    }
   ],
   "source": [
    "error = []\n",
    "lr = 5   #### Already values are very small , and if lr is small, then it takes plenty of time\n",
    "for i in range(1000):\n",
    "    m = m-lr*grad_m(m,features,c,target)\n",
    "    c = c-lr*grad_c(m,features,c,target)\n",
    "    error.append(cost(m,features,c,target))\n",
    "    clear_output(True)\n",
    "    print('Error :',cost(m,features,c,target),'Iteration :',i,'Accuracy :',accuracy(m,features,c,target))\n",
    "plt.plot(error)\n",
    "plt.show()"
   ]
  },
  {
   "cell_type": "markdown",
   "metadata": {},
   "source": [
    "# Conclusion : Naive Bayes is better for classifying Titanic Dataset than Logistic regression"
   ]
  },
  {
   "cell_type": "code",
   "execution_count": null,
   "metadata": {},
   "outputs": [],
   "source": []
  }
 ],
 "metadata": {
  "kernelspec": {
   "display_name": "Python 3",
   "language": "python",
   "name": "python3"
  },
  "language_info": {
   "codemirror_mode": {
    "name": "ipython",
    "version": 3
   },
   "file_extension": ".py",
   "mimetype": "text/x-python",
   "name": "python",
   "nbconvert_exporter": "python",
   "pygments_lexer": "ipython3",
   "version": "3.7.1"
  }
 },
 "nbformat": 4,
 "nbformat_minor": 2
}
