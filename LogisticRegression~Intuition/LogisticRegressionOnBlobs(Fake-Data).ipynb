{
 "cells": [
  {
   "cell_type": "markdown",
   "metadata": {},
   "source": [
    "# Objective is to understand Logistic Regression by creating a fake data with 2 features and visualing the classification line"
   ]
  },
  {
   "cell_type": "markdown",
   "metadata": {},
   "source": [
    "# Creating Fake Data"
   ]
  },
  {
   "cell_type": "code",
   "execution_count": 242,
   "metadata": {},
   "outputs": [],
   "source": [
    "from sklearn.datasets.samples_generator import make_blobs  ### This is the library from which we import blobs to make data\n",
    "import matplotlib.pyplot as plt\n",
    "import pandas as pd"
   ]
  },
  {
   "cell_type": "code",
   "execution_count": 243,
   "metadata": {},
   "outputs": [],
   "source": [
    "import numpy as np\n",
    "import matplotlib.pyplot as plt\n",
    "import random\n",
    "from IPython.display import clear_output"
   ]
  },
  {
   "cell_type": "markdown",
   "metadata": {},
   "source": [
    "# Explanation of below code\n",
    "\n",
    "#### \"The make_blobs()\" function can be used to generate blobs of points with a Gaussian distribution. \n",
    "#### 1)n_samples ----- They're no. of instances(rows)\n",
    "####  2)centers      ----- They denote classes for Y_variable\n",
    "Example : centers = 2 gives (0,1)classes for y variable, \n",
    "          centers = 3 gives (0,1,2)classes for y variable\n",
    "####   3)n_features ----- Denotes how many features to input into X variable\n",
    "####  4) cluster_std ----- Denotes general standard deviation\n",
    "Example : If it is increased, u can see points will be combined, if decreased they'll be far way\n",
    "####  5)random_state ----- Denotes randomness of the whole cluster\n",
    "Just play around with it, you'll get to know how it affects the scatter plot\n"
   ]
  },
  {
   "cell_type": "markdown",
   "metadata": {},
   "source": [
    "## Note : make_blobs function produces blobs such that it is only used for Classification       purposes only*******"
   ]
  },
  {
   "cell_type": "code",
   "execution_count": 244,
   "metadata": {},
   "outputs": [],
   "source": [
    "######### Creating Data from Gaussian Noise ###########\n",
    "\n",
    "X, Y = make_blobs(n_samples=5000, centers=2, n_features=2, cluster_std=3, random_state=11)\n",
    "\n",
    "##### X,Y are the features and target variables\n",
    "#### X & Y are currently just arrays\n",
    "##### This is a code to fetch data from Gaussian Distribution #####"
   ]
  },
  {
   "cell_type": "code",
   "execution_count": 245,
   "metadata": {},
   "outputs": [
    {
     "data": {
      "image/png": "[encoded data removed]",
      "text/plain": [
       "<Figure size 432x288 with 1 Axes>"
      ]
     },
     "metadata": {
      "needs_background": "light"
     },
     "output_type": "display_data"
    }
   ],
   "source": [
    "###### This Code plots only for Classification purposes\n",
    "df = pd.DataFrame(dict(x=X[:,0], y=X[:,1], label=Y))  #Creating dataframe with x,y,label as column names\n",
    "colors = {0:'blue', 1:'orange'}\n",
    "fig, ax = plt.subplots()\n",
    "grouped = df.groupby('label')  #Grouping the label such that, both features will be plotted against label\n",
    "for key, group in grouped:\n",
    "    group.plot(ax=ax, kind='scatter', x='x', y='y', label=key, color=colors[key])\n",
    "plt.xlabel('X_0')\n",
    "plt.ylabel('X_1')\n",
    "plt.show()"
   ]
  },
  {
   "cell_type": "code",
   "execution_count": 246,
   "metadata": {},
   "outputs": [
    {
     "data": {
      "text/plain": [
       "(5000, 3)"
      ]
     },
     "execution_count": 246,
     "metadata": {},
     "output_type": "execute_result"
    }
   ],
   "source": [
    "df.shape"
   ]
  },
  {
   "cell_type": "code",
   "execution_count": 247,
   "metadata": {
    "scrolled": true
   },
   "outputs": [
    {
     "data": {
      "text/html": [
       "<div>\n",
       "<style scoped>\n",
       "    .dataframe tbody tr th:only-of-type {\n",
       "        vertical-align: middle;\n",
       "    }\n",
       "\n",
       "    .dataframe tbody tr th {\n",
       "        vertical-align: top;\n",
       "    }\n",
       "\n",
       "    .dataframe thead th {\n",
       "        text-align: right;\n",
       "    }\n",
       "</style>\n",
       "<table border=\"1\" class=\"dataframe\">\n",
       "  <thead>\n",
       "    <tr style=\"text-align: right;\">\n",
       "      <th></th>\n",
       "      <th>x</th>\n",
       "      <th>y</th>\n",
       "      <th>label</th>\n",
       "    </tr>\n",
       "  </thead>\n",
       "  <tbody>\n",
       "    <tr>\n",
       "      <th>0</th>\n",
       "      <td>1.070113</td>\n",
       "      <td>-5.749949</td>\n",
       "      <td>0</td>\n",
       "    </tr>\n",
       "    <tr>\n",
       "      <th>1</th>\n",
       "      <td>-3.846441</td>\n",
       "      <td>-8.086116</td>\n",
       "      <td>0</td>\n",
       "    </tr>\n",
       "    <tr>\n",
       "      <th>2</th>\n",
       "      <td>0.301123</td>\n",
       "      <td>6.144076</td>\n",
       "      <td>1</td>\n",
       "    </tr>\n",
       "    <tr>\n",
       "      <th>3</th>\n",
       "      <td>-4.212843</td>\n",
       "      <td>-9.472289</td>\n",
       "      <td>0</td>\n",
       "    </tr>\n",
       "  </tbody>\n",
       "</table>\n",
       "</div>"
      ],
      "text/plain": [
       "          x         y  label\n",
       "0  1.070113 -5.749949      0\n",
       "1 -3.846441 -8.086116      0\n",
       "2  0.301123  6.144076      1\n",
       "3 -4.212843 -9.472289      0"
      ]
     },
     "execution_count": 247,
     "metadata": {},
     "output_type": "execute_result"
    }
   ],
   "source": [
    "df.head(4)"
   ]
  },
  {
   "cell_type": "code",
   "execution_count": 248,
   "metadata": {},
   "outputs": [],
   "source": [
    "### Making target and features variables\n",
    "target = df['label'];\n",
    "features = df.drop(['label'],axis= 1)"
   ]
  },
  {
   "cell_type": "code",
   "execution_count": 249,
   "metadata": {},
   "outputs": [
    {
     "name": "stdout",
     "output_type": "stream",
     "text": [
      "shape of target : (5000,)\n",
      "shape of features : (5000, 2)\n"
     ]
    }
   ],
   "source": [
    "print('shape of target :', target.shape)\n",
    "print('shape of features :',features.shape)"
   ]
  },
  {
   "cell_type": "code",
   "execution_count": 251,
   "metadata": {},
   "outputs": [],
   "source": [
    "target = np.array(target)\n",
    "target = target.reshape(1,5000)"
   ]
  },
  {
   "cell_type": "code",
   "execution_count": 252,
   "metadata": {},
   "outputs": [
    {
     "name": "stdout",
     "output_type": "stream",
     "text": [
      "shape of target : (1, 5000)\n",
      "shape of features : (5000, 2)\n"
     ]
    }
   ],
   "source": [
    "print('shape of target :', target.shape)\n",
    "print('shape of features :',features.shape)"
   ]
  },
  {
   "cell_type": "markdown",
   "metadata": {},
   "source": [
    "# Usually Feature scaling/normalising is very important but here in this distribution values are already so small, so normalising wont be necessary"
   ]
  },
  {
   "cell_type": "code",
   "execution_count": 253,
   "metadata": {},
   "outputs": [],
   "source": [
    "### This is called sigmoid function like in linear regression we had a line, here we have a sigmoid for hypothesis\n",
    "def sigmoid(m,x,c):\n",
    "    return 1/((1+np.exp(-np.dot(m,x.T)+c)))\n",
    "### This is error function which consists of means of all the errors\n",
    "def cost(m,x,c,y):\n",
    "    y_pred = sigmoid(m,x,c)\n",
    "    ### In the below formula, when y = 1, we get value of log(y_pred) and that gives us how much error the y_pred is carrying \n",
    "    ### when compared to y_actual, similarly for log(1-y_pred) when y = 0.\n",
    "    ### when y_pred becomes equal to '1', then log becomes '0', that means error becomes '0'.\n",
    "    error = -(y*np.log(y_pred)+0.005) - ((1-y)*(np.log(1-y_pred)+0.005))\n",
    "    return np.mean(error)\n",
    "def grad_m(m,x,c,y):\n",
    "    y_pred = sigmoid(m,x,c)\n",
    "    ### This is to minimise the 'm' value and to get the optimal 'm' value\n",
    "    grad = np.mean((y_pred - y)*x.T, axis=1)\n",
    "    grad = np.array(grad)\n",
    "    grad = grad.reshape(1,2)\n",
    "    return grad\n",
    "def grad_c(m,x,c,y):\n",
    "    y_pred = sigmoid(m,x,c)\n",
    "    ### This is to minimise the 'c' value and to get the optimal 'c' value\n",
    "    return np.mean(y_pred - y)\n",
    "def accuracy(m,x,c,y):\n",
    "    y_pred=sigmoid(m,x,c)\n",
    "    ### As y_pred in our case can be any value between 0 to 1\n",
    "    ### We're equating them when y_pred >= 0.5 to '1' and y_pred < 0.5 to '0'\n",
    "    y_pred[y_pred>=0.5]=1   \n",
    "    y_pred[y_pred<0.5]=0\n",
    "    correct=len(y_pred[y_pred==y])\n",
    "    return correct/len(y.T)*100\n"
   ]
  },
  {
   "cell_type": "markdown",
   "metadata": {},
   "source": [
    "# ''''Note : As the instances increases, the learning loop efficiency decreases\"\"\" means, the cost may fall into inf or NaN.\n",
    "# To not allow that to happen, we need to take care of log(y_pred) and log(1-y_pred) where y_pred to not fall into \"\"0\"\".\n",
    "# To avoid that to happen, we need to add y_pred with some scalar value such as 0.009 or 0.0005"
   ]
  },
  {
   "cell_type": "code",
   "execution_count": 226,
   "metadata": {},
   "outputs": [
    {
     "name": "stdout",
     "output_type": "stream",
     "text": [
      "---------------------------------------Iteration : 1099---------------------------------------\n",
      "Error : nan\n",
      "m : [[-1.32951959  5.96079233]]\n",
      "c : 25.19212948994027\n",
      "Accuracy : 77.0\n"
     ]
    },
    {
     "data": {
      "image/png": "[encoded data removed]",
      "text/plain": [
       "<Figure size 432x288 with 1 Axes>"
      ]
     },
     "metadata": {
      "needs_background": "light"
     },
     "output_type": "display_data"
    }
   ],
   "source": [
    "########################################## Caution : ########################################################\n",
    "####################################### TRAINING ZONE ########################################################\n",
    "m = np.random.randn(1,2)\n",
    "c = random.random()\n",
    "lr = 0.1\n",
    "errors = []\n",
    "for i in range(1100):\n",
    "    m = m - lr * grad_m(m,features,c,target)\n",
    "    c = c - lr * grad_c(m,features,c,target)\n",
    "    errors.append(cost(m,features,c,target))\n",
    "    clear_output(True)\n",
    "    print('---------------------------------------Iteration : %d---------------------------------------'%i)\n",
    "    print('Error :',errors[i])\n",
    "    print('m :',m)\n",
    "    print('c :',c)\n",
    "    print('Accuracy :',accuracy(m,features,c,target))\n",
    "plt.plot(errors)\n",
    "plt.show()    \n",
    "#####################   THIS IS TO SHOW HOW ERROR WILL BECOME NAN / INF  #################"
   ]
  },
  {
   "cell_type": "code",
   "execution_count": 228,
   "metadata": {},
   "outputs": [
    {
     "name": "stdout",
     "output_type": "stream",
     "text": [
      "---------------------------------------Iteration : 1099---------------------------------------\n",
      "Error : 0.36515789540127364\n",
      "m : [[-0.00510904  0.43560201]]\n",
      "c : 0.9872389747443596\n",
      "Accuracy : 83.5\n"
     ]
    },
    {
     "data": {
      "image/png": "[encoded data removed]",
      "text/plain": [
       "<Figure size 432x288 with 1 Axes>"
      ]
     },
     "metadata": {
      "needs_background": "light"
     },
     "output_type": "display_data"
    }
   ],
   "source": [
    "m = np.random.randn(1,2)\n",
    "c = random.random()\n",
    "lr = 0.001\n",
    "errors = []\n",
    "for i in range(1100):\n",
    "    m = m - lr * grad_m(m,features,c,target)\n",
    "    c = c - lr * grad_c(m,features,c,target)\n",
    "    errors.append(cost(m,features,c,target))\n",
    "    clear_output(True)\n",
    "    print('---------------------------------------Iteration : %d---------------------------------------'%i)\n",
    "    print('Error :',errors[i])\n",
    "    print('m :',m)\n",
    "    print('c :',c)\n",
    "    print('Accuracy :',accuracy(m,features,c,target))\n",
    "plt.plot(errors)\n",
    "plt.show()    "
   ]
  },
  {
   "cell_type": "code",
   "execution_count": 254,
   "metadata": {
    "scrolled": true
   },
   "outputs": [
    {
     "data": {
      "text/plain": [
       "(5000,)"
      ]
     },
     "execution_count": 254,
     "metadata": {},
     "output_type": "execute_result"
    }
   ],
   "source": [
    "features.T.iloc[0,:].shape"
   ]
  },
  {
   "cell_type": "code",
   "execution_count": 241,
   "metadata": {},
   "outputs": [
    {
     "data": {
      "image/png": "[encoded data removed]",
      "text/plain": [
       "<Figure size 432x288 with 1 Axes>"
      ]
     },
     "metadata": {
      "needs_background": "light"
     },
     "output_type": "display_data"
    }
   ],
   "source": [
    "def graph(formula, x_range):  \n",
    "    x = np.array(x_range)  \n",
    "    y = formula(x)  \n",
    "    plt.plot(x, y,color = 'red') \n",
    "def my_formula(x):\n",
    "    return (-c-m[0][0]*x)/m[0][1]       ##### Either of both lines will work and one of them will be efficient\n",
    "    #return -((m[0][0]*x+m[0][1]*x) + c)\n",
    "from matplotlib import pyplot as plt\n",
    "from pandas import DataFrame \n",
    "df = DataFrame(dict(x=X[:,0], y=X[:,1], label=Y))\n",
    "colors = {0:'blue', 1:'orange'}\n",
    "fig, ax = plt.subplots()\n",
    "grouped = df.groupby('label')\n",
    "for key, group in grouped:\n",
    "    group.plot(ax=ax, kind='scatter', x='x', y='y', label=key, color=colors[key])\n",
    "graph(my_formula, range(-15,10))\n",
    "plt.xlabel('X_0')\n",
    "plt.ylabel('X_1')\n",
    "plt.show()"
   ]
  },
  {
   "cell_type": "code",
   "execution_count": null,
   "metadata": {},
   "outputs": [],
   "source": []
  }
 ],
 "metadata": {
  "kernelspec": {
   "display_name": "Python 3",
   "language": "python",
   "name": "python3"
  },
  "language_info": {
   "codemirror_mode": {
    "name": "ipython",
    "version": 3
   },
   "file_extension": ".py",
   "mimetype": "text/x-python",
   "name": "python",
   "nbconvert_exporter": "python",
   "pygments_lexer": "ipython3",
   "version": "3.7.1"
  }
 },
 "nbformat": 4,
 "nbformat_minor": 2
}
