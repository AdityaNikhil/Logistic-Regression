{
  "nbformat": 4,
  "nbformat_minor": 0,
  "metadata": {
    "colab": {
      "name": "Logistic_Regression_Gender_voice_Classification_Dataset.ipynb",
      "provenance": [],
      "collapsed_sections": []
    },
    "kernelspec": {
      "name": "python3",
      "display_name": "Python 3"
    }
  },
  "cells": [
    {
      "cell_type": "markdown",
      "metadata": {
        "id": "lnQRsGyVl3Hi",
        "colab_type": "text"
      },
      "source": [
        "# In this notebook, we're going to train a gender voice classifier model using logistic regression\n",
        "(Make sure to run all cells before taking a look at the code)"
      ]
    },
    {
      "cell_type": "code",
      "metadata": {
        "id": "XkP15NWwSFmC",
        "colab_type": "code",
        "colab": {}
      },
      "source": [
        "import numpy as np\n",
        "import pandas as pd\n",
        "import matplotlib.pyplot as plt\n",
        "import random"
      ],
      "execution_count": 0,
      "outputs": []
    },
    {
      "cell_type": "code",
      "metadata": {
        "id": "P2X2u4SESTkS",
        "colab_type": "code",
        "colab": {}
      },
      "source": [
        "data = pd.read_csv('voice.csv')\n",
        "# data = data.sample(frac=1).reset_index(drop=True)"
      ],
      "execution_count": 0,
      "outputs": []
    },
    {
      "cell_type": "code",
      "metadata": {
        "id": "-whi-gwJVrOW",
        "colab_type": "code",
        "colab": {}
      },
      "source": [
        "# Encoding the label values\n",
        "\n",
        "data['label'] = data['label'].replace(['male','female'],[1,0])"
      ],
      "execution_count": 0,
      "outputs": []
    },
    {
      "cell_type": "code",
      "metadata": {
        "id": "Fz0BQmg6SXv5",
        "colab_type": "code",
        "outputId": "d3897cd8-e6f1-434e-cd6e-bad0c175740b",
        "colab": {
          "base_uri": "https://localhost:8080/",
          "height": 419
        }
      },
      "source": [
        "data"
      ],
      "execution_count": 0,
      "outputs": [
        {
          "output_type": "execute_result",
          "data": {
            "text/html": [
              "<div>\n",
              "<style scoped>\n",
              "    .dataframe tbody tr th:only-of-type {\n",
              "        vertical-align: middle;\n",
              "    }\n",
              "\n",
              "    .dataframe tbody tr th {\n",
              "        vertical-align: top;\n",
              "    }\n",
              "\n",
              "    .dataframe thead th {\n",
              "        text-align: right;\n",
              "    }\n",
              "</style>\n",
              "<table border=\"1\" class=\"dataframe\">\n",
              "  <thead>\n",
              "    <tr style=\"text-align: right;\">\n",
              "      <th></th>\n",
              "      <th>meanfreq</th>\n",
              "      <th>sd</th>\n",
              "      <th>median</th>\n",
              "      <th>Q25</th>\n",
              "      <th>Q75</th>\n",
              "      <th>IQR</th>\n",
              "      <th>skew</th>\n",
              "      <th>kurt</th>\n",
              "      <th>sp.ent</th>\n",
              "      <th>sfm</th>\n",
              "      <th>mode</th>\n",
              "      <th>centroid</th>\n",
              "      <th>meanfun</th>\n",
              "      <th>minfun</th>\n",
              "      <th>maxfun</th>\n",
              "      <th>meandom</th>\n",
              "      <th>mindom</th>\n",
              "      <th>maxdom</th>\n",
              "      <th>dfrange</th>\n",
              "      <th>modindx</th>\n",
              "      <th>label</th>\n",
              "    </tr>\n",
              "  </thead>\n",
              "  <tbody>\n",
              "    <tr>\n",
              "      <th>0</th>\n",
              "      <td>0.059781</td>\n",
              "      <td>0.064241</td>\n",
              "      <td>0.032027</td>\n",
              "      <td>0.015071</td>\n",
              "      <td>0.090193</td>\n",
              "      <td>0.075122</td>\n",
              "      <td>12.863462</td>\n",
              "      <td>274.402906</td>\n",
              "      <td>0.893369</td>\n",
              "      <td>0.491918</td>\n",
              "      <td>0.000000</td>\n",
              "      <td>0.059781</td>\n",
              "      <td>0.084279</td>\n",
              "      <td>0.015702</td>\n",
              "      <td>0.275862</td>\n",
              "      <td>0.007812</td>\n",
              "      <td>0.007812</td>\n",
              "      <td>0.007812</td>\n",
              "      <td>0.000000</td>\n",
              "      <td>0.000000</td>\n",
              "      <td>1</td>\n",
              "    </tr>\n",
              "    <tr>\n",
              "      <th>1</th>\n",
              "      <td>0.066009</td>\n",
              "      <td>0.067310</td>\n",
              "      <td>0.040229</td>\n",
              "      <td>0.019414</td>\n",
              "      <td>0.092666</td>\n",
              "      <td>0.073252</td>\n",
              "      <td>22.423285</td>\n",
              "      <td>634.613855</td>\n",
              "      <td>0.892193</td>\n",
              "      <td>0.513724</td>\n",
              "      <td>0.000000</td>\n",
              "      <td>0.066009</td>\n",
              "      <td>0.107937</td>\n",
              "      <td>0.015826</td>\n",
              "      <td>0.250000</td>\n",
              "      <td>0.009014</td>\n",
              "      <td>0.007812</td>\n",
              "      <td>0.054688</td>\n",
              "      <td>0.046875</td>\n",
              "      <td>0.052632</td>\n",
              "      <td>1</td>\n",
              "    </tr>\n",
              "    <tr>\n",
              "      <th>2</th>\n",
              "      <td>0.077316</td>\n",
              "      <td>0.083829</td>\n",
              "      <td>0.036718</td>\n",
              "      <td>0.008701</td>\n",
              "      <td>0.131908</td>\n",
              "      <td>0.123207</td>\n",
              "      <td>30.757155</td>\n",
              "      <td>1024.927705</td>\n",
              "      <td>0.846389</td>\n",
              "      <td>0.478905</td>\n",
              "      <td>0.000000</td>\n",
              "      <td>0.077316</td>\n",
              "      <td>0.098706</td>\n",
              "      <td>0.015656</td>\n",
              "      <td>0.271186</td>\n",
              "      <td>0.007990</td>\n",
              "      <td>0.007812</td>\n",
              "      <td>0.015625</td>\n",
              "      <td>0.007812</td>\n",
              "      <td>0.046512</td>\n",
              "      <td>1</td>\n",
              "    </tr>\n",
              "    <tr>\n",
              "      <th>3</th>\n",
              "      <td>0.151228</td>\n",
              "      <td>0.072111</td>\n",
              "      <td>0.158011</td>\n",
              "      <td>0.096582</td>\n",
              "      <td>0.207955</td>\n",
              "      <td>0.111374</td>\n",
              "      <td>1.232831</td>\n",
              "      <td>4.177296</td>\n",
              "      <td>0.963322</td>\n",
              "      <td>0.727232</td>\n",
              "      <td>0.083878</td>\n",
              "      <td>0.151228</td>\n",
              "      <td>0.088965</td>\n",
              "      <td>0.017798</td>\n",
              "      <td>0.250000</td>\n",
              "      <td>0.201497</td>\n",
              "      <td>0.007812</td>\n",
              "      <td>0.562500</td>\n",
              "      <td>0.554688</td>\n",
              "      <td>0.247119</td>\n",
              "      <td>1</td>\n",
              "    </tr>\n",
              "    <tr>\n",
              "      <th>4</th>\n",
              "      <td>0.135120</td>\n",
              "      <td>0.079146</td>\n",
              "      <td>0.124656</td>\n",
              "      <td>0.078720</td>\n",
              "      <td>0.206045</td>\n",
              "      <td>0.127325</td>\n",
              "      <td>1.101174</td>\n",
              "      <td>4.333713</td>\n",
              "      <td>0.971955</td>\n",
              "      <td>0.783568</td>\n",
              "      <td>0.104261</td>\n",
              "      <td>0.135120</td>\n",
              "      <td>0.106398</td>\n",
              "      <td>0.016931</td>\n",
              "      <td>0.266667</td>\n",
              "      <td>0.712812</td>\n",
              "      <td>0.007812</td>\n",
              "      <td>5.484375</td>\n",
              "      <td>5.476562</td>\n",
              "      <td>0.208274</td>\n",
              "      <td>1</td>\n",
              "    </tr>\n",
              "    <tr>\n",
              "      <th>...</th>\n",
              "      <td>...</td>\n",
              "      <td>...</td>\n",
              "      <td>...</td>\n",
              "      <td>...</td>\n",
              "      <td>...</td>\n",
              "      <td>...</td>\n",
              "      <td>...</td>\n",
              "      <td>...</td>\n",
              "      <td>...</td>\n",
              "      <td>...</td>\n",
              "      <td>...</td>\n",
              "      <td>...</td>\n",
              "      <td>...</td>\n",
              "      <td>...</td>\n",
              "      <td>...</td>\n",
              "      <td>...</td>\n",
              "      <td>...</td>\n",
              "      <td>...</td>\n",
              "      <td>...</td>\n",
              "      <td>...</td>\n",
              "      <td>...</td>\n",
              "    </tr>\n",
              "    <tr>\n",
              "      <th>3163</th>\n",
              "      <td>0.131884</td>\n",
              "      <td>0.084734</td>\n",
              "      <td>0.153707</td>\n",
              "      <td>0.049285</td>\n",
              "      <td>0.201144</td>\n",
              "      <td>0.151859</td>\n",
              "      <td>1.762129</td>\n",
              "      <td>6.630383</td>\n",
              "      <td>0.962934</td>\n",
              "      <td>0.763182</td>\n",
              "      <td>0.200836</td>\n",
              "      <td>0.131884</td>\n",
              "      <td>0.182790</td>\n",
              "      <td>0.083770</td>\n",
              "      <td>0.262295</td>\n",
              "      <td>0.832899</td>\n",
              "      <td>0.007812</td>\n",
              "      <td>4.210938</td>\n",
              "      <td>4.203125</td>\n",
              "      <td>0.161929</td>\n",
              "      <td>0</td>\n",
              "    </tr>\n",
              "    <tr>\n",
              "      <th>3164</th>\n",
              "      <td>0.116221</td>\n",
              "      <td>0.089221</td>\n",
              "      <td>0.076758</td>\n",
              "      <td>0.042718</td>\n",
              "      <td>0.204911</td>\n",
              "      <td>0.162193</td>\n",
              "      <td>0.693730</td>\n",
              "      <td>2.503954</td>\n",
              "      <td>0.960716</td>\n",
              "      <td>0.709570</td>\n",
              "      <td>0.013683</td>\n",
              "      <td>0.116221</td>\n",
              "      <td>0.188980</td>\n",
              "      <td>0.034409</td>\n",
              "      <td>0.275862</td>\n",
              "      <td>0.909856</td>\n",
              "      <td>0.039062</td>\n",
              "      <td>3.679688</td>\n",
              "      <td>3.640625</td>\n",
              "      <td>0.277897</td>\n",
              "      <td>0</td>\n",
              "    </tr>\n",
              "    <tr>\n",
              "      <th>3165</th>\n",
              "      <td>0.142056</td>\n",
              "      <td>0.095798</td>\n",
              "      <td>0.183731</td>\n",
              "      <td>0.033424</td>\n",
              "      <td>0.224360</td>\n",
              "      <td>0.190936</td>\n",
              "      <td>1.876502</td>\n",
              "      <td>6.604509</td>\n",
              "      <td>0.946854</td>\n",
              "      <td>0.654196</td>\n",
              "      <td>0.008006</td>\n",
              "      <td>0.142056</td>\n",
              "      <td>0.209918</td>\n",
              "      <td>0.039506</td>\n",
              "      <td>0.275862</td>\n",
              "      <td>0.494271</td>\n",
              "      <td>0.007812</td>\n",
              "      <td>2.937500</td>\n",
              "      <td>2.929688</td>\n",
              "      <td>0.194759</td>\n",
              "      <td>0</td>\n",
              "    </tr>\n",
              "    <tr>\n",
              "      <th>3166</th>\n",
              "      <td>0.143659</td>\n",
              "      <td>0.090628</td>\n",
              "      <td>0.184976</td>\n",
              "      <td>0.043508</td>\n",
              "      <td>0.219943</td>\n",
              "      <td>0.176435</td>\n",
              "      <td>1.591065</td>\n",
              "      <td>5.388298</td>\n",
              "      <td>0.950436</td>\n",
              "      <td>0.675470</td>\n",
              "      <td>0.212202</td>\n",
              "      <td>0.143659</td>\n",
              "      <td>0.172375</td>\n",
              "      <td>0.034483</td>\n",
              "      <td>0.250000</td>\n",
              "      <td>0.791360</td>\n",
              "      <td>0.007812</td>\n",
              "      <td>3.593750</td>\n",
              "      <td>3.585938</td>\n",
              "      <td>0.311002</td>\n",
              "      <td>0</td>\n",
              "    </tr>\n",
              "    <tr>\n",
              "      <th>3167</th>\n",
              "      <td>0.165509</td>\n",
              "      <td>0.092884</td>\n",
              "      <td>0.183044</td>\n",
              "      <td>0.070072</td>\n",
              "      <td>0.250827</td>\n",
              "      <td>0.180756</td>\n",
              "      <td>1.705029</td>\n",
              "      <td>5.769115</td>\n",
              "      <td>0.938829</td>\n",
              "      <td>0.601529</td>\n",
              "      <td>0.267702</td>\n",
              "      <td>0.165509</td>\n",
              "      <td>0.185607</td>\n",
              "      <td>0.062257</td>\n",
              "      <td>0.271186</td>\n",
              "      <td>0.227022</td>\n",
              "      <td>0.007812</td>\n",
              "      <td>0.554688</td>\n",
              "      <td>0.546875</td>\n",
              "      <td>0.350000</td>\n",
              "      <td>0</td>\n",
              "    </tr>\n",
              "  </tbody>\n",
              "</table>\n",
              "<p>3168 rows × 21 columns</p>\n",
              "</div>"
            ],
            "text/plain": [
              "      meanfreq        sd    median  ...   dfrange   modindx  label\n",
              "0     0.059781  0.064241  0.032027  ...  0.000000  0.000000      1\n",
              "1     0.066009  0.067310  0.040229  ...  0.046875  0.052632      1\n",
              "2     0.077316  0.083829  0.036718  ...  0.007812  0.046512      1\n",
              "3     0.151228  0.072111  0.158011  ...  0.554688  0.247119      1\n",
              "4     0.135120  0.079146  0.124656  ...  5.476562  0.208274      1\n",
              "...        ...       ...       ...  ...       ...       ...    ...\n",
              "3163  0.131884  0.084734  0.153707  ...  4.203125  0.161929      0\n",
              "3164  0.116221  0.089221  0.076758  ...  3.640625  0.277897      0\n",
              "3165  0.142056  0.095798  0.183731  ...  2.929688  0.194759      0\n",
              "3166  0.143659  0.090628  0.184976  ...  3.585938  0.311002      0\n",
              "3167  0.165509  0.092884  0.183044  ...  0.546875  0.350000      0\n",
              "\n",
              "[3168 rows x 21 columns]"
            ]
          },
          "metadata": {
            "tags": []
          },
          "execution_count": 28
        }
      ]
    },
    {
      "cell_type": "code",
      "metadata": {
        "id": "RxibaKMHnXIk",
        "colab_type": "code",
        "outputId": "36a10a8e-5e3b-4abe-e33f-487561216c08",
        "colab": {
          "base_uri": "https://localhost:8080/",
          "height": 419
        }
      },
      "source": [
        "data = data.sample(frac=1).reset_index(drop=True)\n",
        "data"
      ],
      "execution_count": 0,
      "outputs": [
        {
          "output_type": "execute_result",
          "data": {
            "text/html": [
              "<div>\n",
              "<style scoped>\n",
              "    .dataframe tbody tr th:only-of-type {\n",
              "        vertical-align: middle;\n",
              "    }\n",
              "\n",
              "    .dataframe tbody tr th {\n",
              "        vertical-align: top;\n",
              "    }\n",
              "\n",
              "    .dataframe thead th {\n",
              "        text-align: right;\n",
              "    }\n",
              "</style>\n",
              "<table border=\"1\" class=\"dataframe\">\n",
              "  <thead>\n",
              "    <tr style=\"text-align: right;\">\n",
              "      <th></th>\n",
              "      <th>meanfreq</th>\n",
              "      <th>sd</th>\n",
              "      <th>median</th>\n",
              "      <th>Q25</th>\n",
              "      <th>Q75</th>\n",
              "      <th>IQR</th>\n",
              "      <th>skew</th>\n",
              "      <th>kurt</th>\n",
              "      <th>sp.ent</th>\n",
              "      <th>sfm</th>\n",
              "      <th>mode</th>\n",
              "      <th>centroid</th>\n",
              "      <th>meanfun</th>\n",
              "      <th>minfun</th>\n",
              "      <th>maxfun</th>\n",
              "      <th>meandom</th>\n",
              "      <th>mindom</th>\n",
              "      <th>maxdom</th>\n",
              "      <th>dfrange</th>\n",
              "      <th>modindx</th>\n",
              "      <th>label</th>\n",
              "    </tr>\n",
              "  </thead>\n",
              "  <tbody>\n",
              "    <tr>\n",
              "      <th>0</th>\n",
              "      <td>0.179496</td>\n",
              "      <td>0.066958</td>\n",
              "      <td>0.172956</td>\n",
              "      <td>0.135788</td>\n",
              "      <td>0.239363</td>\n",
              "      <td>0.103575</td>\n",
              "      <td>1.221574</td>\n",
              "      <td>4.276509</td>\n",
              "      <td>0.945091</td>\n",
              "      <td>0.608689</td>\n",
              "      <td>0.276035</td>\n",
              "      <td>0.179496</td>\n",
              "      <td>0.138419</td>\n",
              "      <td>0.048048</td>\n",
              "      <td>0.279070</td>\n",
              "      <td>1.474276</td>\n",
              "      <td>0.023438</td>\n",
              "      <td>8.578125</td>\n",
              "      <td>8.554688</td>\n",
              "      <td>0.155321</td>\n",
              "      <td>1</td>\n",
              "    </tr>\n",
              "    <tr>\n",
              "      <th>1</th>\n",
              "      <td>0.200012</td>\n",
              "      <td>0.058808</td>\n",
              "      <td>0.216067</td>\n",
              "      <td>0.143733</td>\n",
              "      <td>0.258067</td>\n",
              "      <td>0.114333</td>\n",
              "      <td>1.569739</td>\n",
              "      <td>5.110164</td>\n",
              "      <td>0.886502</td>\n",
              "      <td>0.258112</td>\n",
              "      <td>0.259467</td>\n",
              "      <td>0.200012</td>\n",
              "      <td>0.128059</td>\n",
              "      <td>0.048534</td>\n",
              "      <td>0.274286</td>\n",
              "      <td>0.900240</td>\n",
              "      <td>0.023438</td>\n",
              "      <td>5.156250</td>\n",
              "      <td>5.132812</td>\n",
              "      <td>0.146902</td>\n",
              "      <td>1</td>\n",
              "    </tr>\n",
              "    <tr>\n",
              "      <th>2</th>\n",
              "      <td>0.201039</td>\n",
              "      <td>0.063253</td>\n",
              "      <td>0.209385</td>\n",
              "      <td>0.139122</td>\n",
              "      <td>0.262434</td>\n",
              "      <td>0.123312</td>\n",
              "      <td>2.195317</td>\n",
              "      <td>7.790039</td>\n",
              "      <td>0.880572</td>\n",
              "      <td>0.333158</td>\n",
              "      <td>0.273676</td>\n",
              "      <td>0.201039</td>\n",
              "      <td>0.139780</td>\n",
              "      <td>0.047525</td>\n",
              "      <td>0.275862</td>\n",
              "      <td>1.480619</td>\n",
              "      <td>0.023438</td>\n",
              "      <td>7.710938</td>\n",
              "      <td>7.687500</td>\n",
              "      <td>0.100537</td>\n",
              "      <td>1</td>\n",
              "    </tr>\n",
              "    <tr>\n",
              "      <th>3</th>\n",
              "      <td>0.189065</td>\n",
              "      <td>0.062576</td>\n",
              "      <td>0.219341</td>\n",
              "      <td>0.123986</td>\n",
              "      <td>0.237054</td>\n",
              "      <td>0.113068</td>\n",
              "      <td>2.378679</td>\n",
              "      <td>8.804143</td>\n",
              "      <td>0.904168</td>\n",
              "      <td>0.443153</td>\n",
              "      <td>0.230745</td>\n",
              "      <td>0.189065</td>\n",
              "      <td>0.100155</td>\n",
              "      <td>0.020025</td>\n",
              "      <td>0.146789</td>\n",
              "      <td>1.631168</td>\n",
              "      <td>0.210938</td>\n",
              "      <td>5.898438</td>\n",
              "      <td>5.687500</td>\n",
              "      <td>0.274725</td>\n",
              "      <td>1</td>\n",
              "    </tr>\n",
              "    <tr>\n",
              "      <th>4</th>\n",
              "      <td>0.180474</td>\n",
              "      <td>0.065063</td>\n",
              "      <td>0.197666</td>\n",
              "      <td>0.119497</td>\n",
              "      <td>0.239314</td>\n",
              "      <td>0.119817</td>\n",
              "      <td>2.216926</td>\n",
              "      <td>8.245348</td>\n",
              "      <td>0.917536</td>\n",
              "      <td>0.499576</td>\n",
              "      <td>0.240915</td>\n",
              "      <td>0.180474</td>\n",
              "      <td>0.133699</td>\n",
              "      <td>0.048193</td>\n",
              "      <td>0.279070</td>\n",
              "      <td>0.789742</td>\n",
              "      <td>0.023438</td>\n",
              "      <td>3.515625</td>\n",
              "      <td>3.492188</td>\n",
              "      <td>0.110067</td>\n",
              "      <td>1</td>\n",
              "    </tr>\n",
              "    <tr>\n",
              "      <th>...</th>\n",
              "      <td>...</td>\n",
              "      <td>...</td>\n",
              "      <td>...</td>\n",
              "      <td>...</td>\n",
              "      <td>...</td>\n",
              "      <td>...</td>\n",
              "      <td>...</td>\n",
              "      <td>...</td>\n",
              "      <td>...</td>\n",
              "      <td>...</td>\n",
              "      <td>...</td>\n",
              "      <td>...</td>\n",
              "      <td>...</td>\n",
              "      <td>...</td>\n",
              "      <td>...</td>\n",
              "      <td>...</td>\n",
              "      <td>...</td>\n",
              "      <td>...</td>\n",
              "      <td>...</td>\n",
              "      <td>...</td>\n",
              "      <td>...</td>\n",
              "    </tr>\n",
              "    <tr>\n",
              "      <th>3163</th>\n",
              "      <td>0.179467</td>\n",
              "      <td>0.058546</td>\n",
              "      <td>0.184897</td>\n",
              "      <td>0.141548</td>\n",
              "      <td>0.219842</td>\n",
              "      <td>0.078294</td>\n",
              "      <td>0.970499</td>\n",
              "      <td>3.665053</td>\n",
              "      <td>0.937305</td>\n",
              "      <td>0.479920</td>\n",
              "      <td>0.171627</td>\n",
              "      <td>0.179467</td>\n",
              "      <td>0.126011</td>\n",
              "      <td>0.046921</td>\n",
              "      <td>0.279070</td>\n",
              "      <td>0.591933</td>\n",
              "      <td>0.023438</td>\n",
              "      <td>3.750000</td>\n",
              "      <td>3.726562</td>\n",
              "      <td>0.131736</td>\n",
              "      <td>1</td>\n",
              "    </tr>\n",
              "    <tr>\n",
              "      <th>3164</th>\n",
              "      <td>0.105782</td>\n",
              "      <td>0.081247</td>\n",
              "      <td>0.102789</td>\n",
              "      <td>0.022764</td>\n",
              "      <td>0.188243</td>\n",
              "      <td>0.165478</td>\n",
              "      <td>27.952901</td>\n",
              "      <td>903.789086</td>\n",
              "      <td>0.893300</td>\n",
              "      <td>0.553553</td>\n",
              "      <td>0.000000</td>\n",
              "      <td>0.105782</td>\n",
              "      <td>0.087918</td>\n",
              "      <td>0.016129</td>\n",
              "      <td>0.266667</td>\n",
              "      <td>0.007812</td>\n",
              "      <td>0.007812</td>\n",
              "      <td>0.007812</td>\n",
              "      <td>0.000000</td>\n",
              "      <td>0.000000</td>\n",
              "      <td>1</td>\n",
              "    </tr>\n",
              "    <tr>\n",
              "      <th>3165</th>\n",
              "      <td>0.185961</td>\n",
              "      <td>0.061483</td>\n",
              "      <td>0.181907</td>\n",
              "      <td>0.149002</td>\n",
              "      <td>0.239645</td>\n",
              "      <td>0.090643</td>\n",
              "      <td>2.016796</td>\n",
              "      <td>8.353955</td>\n",
              "      <td>0.906445</td>\n",
              "      <td>0.390451</td>\n",
              "      <td>0.176319</td>\n",
              "      <td>0.185961</td>\n",
              "      <td>0.124491</td>\n",
              "      <td>0.047105</td>\n",
              "      <td>0.279070</td>\n",
              "      <td>0.812256</td>\n",
              "      <td>0.023438</td>\n",
              "      <td>5.203125</td>\n",
              "      <td>5.179688</td>\n",
              "      <td>0.095803</td>\n",
              "      <td>1</td>\n",
              "    </tr>\n",
              "    <tr>\n",
              "      <th>3166</th>\n",
              "      <td>0.191583</td>\n",
              "      <td>0.057748</td>\n",
              "      <td>0.203681</td>\n",
              "      <td>0.139752</td>\n",
              "      <td>0.240354</td>\n",
              "      <td>0.100602</td>\n",
              "      <td>1.101606</td>\n",
              "      <td>3.455071</td>\n",
              "      <td>0.905459</td>\n",
              "      <td>0.322392</td>\n",
              "      <td>0.229947</td>\n",
              "      <td>0.191583</td>\n",
              "      <td>0.127910</td>\n",
              "      <td>0.047105</td>\n",
              "      <td>0.272727</td>\n",
              "      <td>1.850361</td>\n",
              "      <td>0.023438</td>\n",
              "      <td>8.953125</td>\n",
              "      <td>8.929688</td>\n",
              "      <td>0.131801</td>\n",
              "      <td>1</td>\n",
              "    </tr>\n",
              "    <tr>\n",
              "      <th>3167</th>\n",
              "      <td>0.159184</td>\n",
              "      <td>0.057233</td>\n",
              "      <td>0.170284</td>\n",
              "      <td>0.152633</td>\n",
              "      <td>0.181187</td>\n",
              "      <td>0.028554</td>\n",
              "      <td>7.021591</td>\n",
              "      <td>63.541256</td>\n",
              "      <td>0.878213</td>\n",
              "      <td>0.482172</td>\n",
              "      <td>0.170803</td>\n",
              "      <td>0.159184</td>\n",
              "      <td>0.150485</td>\n",
              "      <td>0.010707</td>\n",
              "      <td>0.212766</td>\n",
              "      <td>0.176479</td>\n",
              "      <td>0.034180</td>\n",
              "      <td>0.424805</td>\n",
              "      <td>0.390625</td>\n",
              "      <td>0.092593</td>\n",
              "      <td>0</td>\n",
              "    </tr>\n",
              "  </tbody>\n",
              "</table>\n",
              "<p>3168 rows × 21 columns</p>\n",
              "</div>"
            ],
            "text/plain": [
              "      meanfreq        sd    median  ...   dfrange   modindx  label\n",
              "0     0.179496  0.066958  0.172956  ...  8.554688  0.155321      1\n",
              "1     0.200012  0.058808  0.216067  ...  5.132812  0.146902      1\n",
              "2     0.201039  0.063253  0.209385  ...  7.687500  0.100537      1\n",
              "3     0.189065  0.062576  0.219341  ...  5.687500  0.274725      1\n",
              "4     0.180474  0.065063  0.197666  ...  3.492188  0.110067      1\n",
              "...        ...       ...       ...  ...       ...       ...    ...\n",
              "3163  0.179467  0.058546  0.184897  ...  3.726562  0.131736      1\n",
              "3164  0.105782  0.081247  0.102789  ...  0.000000  0.000000      1\n",
              "3165  0.185961  0.061483  0.181907  ...  5.179688  0.095803      1\n",
              "3166  0.191583  0.057748  0.203681  ...  8.929688  0.131801      1\n",
              "3167  0.159184  0.057233  0.170284  ...  0.390625  0.092593      0\n",
              "\n",
              "[3168 rows x 21 columns]"
            ]
          },
          "metadata": {
            "tags": []
          },
          "execution_count": 5
        }
      ]
    },
    {
      "cell_type": "markdown",
      "metadata": {
        "id": "IVvzBuZamGXx",
        "colab_type": "text"
      },
      "source": [
        "# Splitting training(80%) and testing data(20%)"
      ]
    },
    {
      "cell_type": "code",
      "metadata": {
        "id": "cpx6Fmobad8q",
        "colab_type": "code",
        "colab": {}
      },
      "source": [
        "train_data = data.iloc[:2534]\n",
        "test_data = data.iloc[2534:]"
      ],
      "execution_count": 0,
      "outputs": []
    },
    {
      "cell_type": "code",
      "metadata": {
        "id": "-15s8X82Scrq",
        "colab_type": "code",
        "colab": {}
      },
      "source": [
        "# Shuffling the rows\n",
        "\n",
        "train_data = train_data.sample(frac=1).reset_index(drop=True) # 'Reset index' to avoid shuffled row indices"
      ],
      "execution_count": 0,
      "outputs": []
    },
    {
      "cell_type": "code",
      "metadata": {
        "id": "c9Hzsa6cTAVv",
        "colab_type": "code",
        "colab": {}
      },
      "source": [
        "x_train = train_data.drop(['label'],axis=1)\n",
        "y_train = train_data['label']\n",
        "\n",
        "x_test = test_data.drop(['label'],axis=1)\n",
        "y_test = test_data['label']"
      ],
      "execution_count": 0,
      "outputs": []
    },
    {
      "cell_type": "code",
      "metadata": {
        "id": "dPMXlvo6I8BV",
        "colab_type": "code",
        "outputId": "b3a08b20-dd23-49e4-dcf1-d42898b2ad46",
        "colab": {
          "base_uri": "https://localhost:8080/",
          "height": 390
        }
      },
      "source": [
        "x_train.dtypes"
      ],
      "execution_count": 0,
      "outputs": [
        {
          "output_type": "execute_result",
          "data": {
            "text/plain": [
              "meanfreq    float64\n",
              "sd          float64\n",
              "median      float64\n",
              "Q25         float64\n",
              "Q75         float64\n",
              "IQR         float64\n",
              "skew        float64\n",
              "kurt        float64\n",
              "sp.ent      float64\n",
              "sfm         float64\n",
              "mode        float64\n",
              "centroid    float64\n",
              "meanfun     float64\n",
              "minfun      float64\n",
              "maxfun      float64\n",
              "meandom     float64\n",
              "mindom      float64\n",
              "maxdom      float64\n",
              "dfrange     float64\n",
              "modindx     float64\n",
              "dtype: object"
            ]
          },
          "metadata": {
            "tags": []
          },
          "execution_count": 22
        }
      ]
    },
    {
      "cell_type": "code",
      "metadata": {
        "id": "IklVf63g5Y7X",
        "colab_type": "code",
        "outputId": "68cf8596-cc2d-432e-ec06-c634566d17e9",
        "colab": {
          "base_uri": "https://localhost:8080/",
          "height": 35
        }
      },
      "source": [
        "y_train.dtypes"
      ],
      "execution_count": 0,
      "outputs": [
        {
          "output_type": "execute_result",
          "data": {
            "text/plain": [
              "dtype('int64')"
            ]
          },
          "metadata": {
            "tags": []
          },
          "execution_count": 9
        }
      ]
    },
    {
      "cell_type": "code",
      "metadata": {
        "id": "ROKUBPtaWHuJ",
        "colab_type": "code",
        "colab": {}
      },
      "source": [
        "y_train = y_train.astype('float64')"
      ],
      "execution_count": 0,
      "outputs": []
    },
    {
      "cell_type": "code",
      "metadata": {
        "id": "oApQSuTITm11",
        "colab_type": "code",
        "colab": {}
      },
      "source": [
        "# Converting to numpy arrays\n",
        "\n",
        "x_train = np.asarray(x_train)\n",
        "y_train = np.asarray(y_train)\n",
        "\n",
        "x_test = np.asarray(x_test)\n",
        "y_test = np.asarray(y_test)\n"
      ],
      "execution_count": 0,
      "outputs": []
    },
    {
      "cell_type": "code",
      "metadata": {
        "id": "4rLxGr38TQUO",
        "colab_type": "code",
        "outputId": "986b5d6a-a5dd-42f5-d0b1-c24fc8cf4dad",
        "colab": {
          "base_uri": "https://localhost:8080/",
          "height": 52
        }
      },
      "source": [
        "print(\"Shape of target : \",y_train.shape)\n",
        "print(\"Shape of features : \",x_train.shape)\n",
        "\n",
        "print(\"Shape of testing features : \",x_test.shape)\n",
        "print(\"Shape of testing target : \",y_test.shape)"
      ],
      "execution_count": 0,
      "outputs": [
        {
          "output_type": "stream",
          "text": [
            "Shape of target :  (2534,)\n",
            "Shape of features :  (2534, 20)\n"
          ],
          "name": "stdout"
        }
      ]
    },
    {
      "cell_type": "code",
      "metadata": {
        "id": "S7sblt-GTlRh",
        "colab_type": "code",
        "colab": {}
      },
      "source": [
        "# Defining functions\n",
        "\n",
        "def line(m,x,c):\n",
        "  return np.dot(m,x.T)+c\n",
        "\n",
        "def sigmoid(m,x,c):\n",
        "  p = line(m,x,c)\n",
        "  nr = 1\n",
        "  dr = 1+np.exp(-(p))\n",
        "  return nr/dr \n",
        "\n",
        "def cost(m,x,c,y):\n",
        "  p = sigmoid(m,x,c)\n",
        "  d = 0.00999\n",
        "  return np.mean(-(y*np.log(p+d)+(1-y)*np.log(1-p+d)))\n",
        "\n",
        "def grad_m(m,x,c,y):\n",
        "  p = sigmoid(m,x,c)\n",
        "  return np.mean((p - y).T*x,axis=0)\n",
        "\n",
        "def grad_c(m,x,c,y):\n",
        "  p = sigmoid(m,x,c)\n",
        "  return np.mean(p - y)\n",
        "\n",
        "def accuracy(m,x,c,y):\n",
        "  y_pred=sigmoid(m,x,c)\n",
        "  ### As y_pred in our case can be any value between 0 to 1\n",
        "  ### We're equating them when y_pred >= 0.5 to '1' and y_pred < 0.5 to '0'\n",
        "  y_pred[y_pred>=0.5]=1   \n",
        "  y_pred[y_pred<0.5]=0\n",
        "  correct=len(y_pred[y_pred==y])\n",
        "  return (correct/len(y.T))*100   "
      ],
      "execution_count": 0,
      "outputs": []
    },
    {
      "cell_type": "markdown",
      "metadata": {
        "id": "zWJeyGsJmOYy",
        "colab_type": "text"
      },
      "source": [
        "# MinMax Normalizing "
      ]
    },
    {
      "cell_type": "markdown",
      "metadata": {
        "id": "AKdXrEcQGhMq",
        "colab_type": "text"
      },
      "source": [
        "# $MinMax = \\frac{X - Min}{Max - Min} $"
      ]
    },
    {
      "cell_type": "code",
      "metadata": {
        "id": "kkAoNfOPU9bw",
        "colab_type": "code",
        "colab": {}
      },
      "source": [
        "def dataset_minmax(dataset):\n",
        "\tminmax = list()\n",
        "\tfor i in range(len(dataset[0])):\n",
        "\t\tcol_values = [row[i] for row in dataset]\n",
        "\t\tvalue_min = min(col_values)\n",
        "\t\tvalue_max = max(col_values)\n",
        "\t\tminmax.append([value_min, value_max])\n",
        "\treturn minmax\n",
        " \n",
        "# Rescale dataset columns to the range 0-1\n",
        "def normalize_dataset(dataset, minmax):\n",
        "\tfor row in dataset:\n",
        "\t\tfor i in range(len(row)):\n",
        "\t\t\trow[i] = (row[i] - minmax[i][0]) / (minmax[i][1] - minmax[i][0])\n",
        "   \n"
      ],
      "execution_count": 0,
      "outputs": []
    },
    {
      "cell_type": "code",
      "metadata": {
        "id": "lpiJBDmsWr7s",
        "colab_type": "code",
        "colab": {}
      },
      "source": [
        "x_train_min_max = x_train.copy()\n",
        "normalize_dataset(x_train_min_max,dataset_minmax(x_train_min_max))"
      ],
      "execution_count": 0,
      "outputs": []
    },
    {
      "cell_type": "markdown",
      "metadata": {
        "id": "npKS_Jr1mTz-",
        "colab_type": "text"
      },
      "source": [
        "# Setting up Gradient descent"
      ]
    },
    {
      "cell_type": "code",
      "metadata": {
        "id": "Hlryiqq5VCXa",
        "colab_type": "code",
        "outputId": "8a0a6ceb-eb89-498a-f6de-ef856e8569d2",
        "colab": {
          "base_uri": "https://localhost:8080/",
          "height": 318
        }
      },
      "source": [
        "from IPython.display import clear_output\n",
        "error = []\n",
        "m = np.random.randn(1,20)\n",
        "c = random.random()\n",
        "lr = 6\n",
        "\n",
        "for i in range(300):\n",
        "  m = m - lr*grad_m(m,x_train_min_max,c,y_train)\n",
        "  c = c - lr*grad_c(m,x_train_min_max,c,y_train)\n",
        "  error.append(cost(m,x_train_min_max,c,y_train))\n",
        "  clear_output(True)\n",
        "  print(\"i : \",i)\n",
        "  print(\"Error : \",cost(m,x_train_min_max,c,y_train))\n",
        "  print(\"Accuracy : \",accuracy(m,x_train_min_max,c,y_train))\n",
        "plt.plot(error)\n",
        "plt.show()"
      ],
      "execution_count": 0,
      "outputs": [
        {
          "output_type": "stream",
          "text": [
            "i :  299\n",
            "Error :  0.09660480046153473\n",
            "Accuracy :  96.92186266771901\n"
          ],
          "name": "stdout"
        },
        {
          "output_type": "display_data",
          "data": {
            "image/png": "[encoded data removed]",
            "text/plain": [
              "<Figure size 432x288 with 1 Axes>"
            ]
          },
          "metadata": {
            "tags": [],
            "needs_background": "light"
          }
        }
      ]
    },
    {
      "cell_type": "markdown",
      "metadata": {
        "id": "VOtZ9f76mop6",
        "colab_type": "text"
      },
      "source": [
        "# Testing the model"
      ]
    },
    {
      "cell_type": "code",
      "metadata": {
        "id": "zPzYE6NDdBSi",
        "colab_type": "code",
        "colab": {}
      },
      "source": [
        "x_test_min_max = x_test.copy()\n",
        "normalize_dataset(x_test_min_max,dataset_minmax(x_test_min_max))"
      ],
      "execution_count": 0,
      "outputs": []
    },
    {
      "cell_type": "code",
      "metadata": {
        "id": "Rb8wbsIqdqj4",
        "colab_type": "code",
        "outputId": "3a23f10c-b181-496f-d5ca-810554cf89da",
        "colab": {
          "base_uri": "https://localhost:8080/",
          "height": 35
        }
      },
      "source": [
        "accuracy(m,x_test_min_max,c,y_test)"
      ],
      "execution_count": 0,
      "outputs": [
        {
          "output_type": "execute_result",
          "data": {
            "text/plain": [
              "97.63406940063092"
            ]
          },
          "metadata": {
            "tags": []
          },
          "execution_count": 19
        }
      ]
    },
    {
      "cell_type": "markdown",
      "metadata": {
        "id": "imB_o4PemsU1",
        "colab_type": "text"
      },
      "source": [
        "# As you can see above, we have achieved an accuracy of 97% on both training and testing sets with,\n",
        "\n",
        "\n",
        "1.   1000 epochs\n",
        "2.   min-max normalizing the features\n",
        "\n",
        "\n"
      ]
    },
    {
      "cell_type": "code",
      "metadata": {
        "id": "sCjSMOV0PjCV",
        "colab_type": "code",
        "colab": {}
      },
      "source": [
        ""
      ],
      "execution_count": 0,
      "outputs": []
    }
  ]
}